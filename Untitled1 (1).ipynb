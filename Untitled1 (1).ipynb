{
  "nbformat": 4,
  "nbformat_minor": 0,
  "metadata": {
    "colab": {
      "provenance": []
    },
    "kernelspec": {
      "name": "python3",
      "display_name": "Python 3"
    },
    "language_info": {
      "name": "python"
    }
  },
  "cells": [
    {
      "cell_type": "code",
      "execution_count": 6,
      "metadata": {
        "colab": {
          "base_uri": "https://localhost:8080/",
          "height": 35
        },
        "id": "I4_QCzwSMYWT",
        "outputId": "a78b68b0-156e-48ca-c69b-4305026b8594"
      },
      "outputs": [
        {
          "output_type": "execute_result",
          "data": {
            "text/plain": [
              "'/tmp/aws_flask_architecture.png'"
            ],
            "application/vnd.google.colaboratory.intrinsic+json": {
              "type": "string"
            }
          },
          "metadata": {},
          "execution_count": 6
        }
      ],
      "source": [
        "from PIL import Image, ImageDraw, ImageFont\n",
        "\n",
        "# Create a simple AWS architecture diagram for the project\n",
        "img = Image.new(\"RGB\", (1000, 600), color=(255, 255, 255))\n",
        "draw = ImageDraw.Draw(img)\n",
        "\n",
        "# Define positions of the components\n",
        "components = {\n",
        "    \"Client\": (50, 250),\n",
        "    \"Route 53\\n(Optional)\": (200, 250),\n",
        "    \"ALB\": (350, 250),\n",
        "    \"EC2\\n(ASG)\": (500, 150),\n",
        "    \"RDS\\n(MySQL)\": (500, 400),\n",
        "    \"VPC\": (475, 75),\n",
        "}\n",
        "\n",
        "# Draw lines to show flow\n",
        "draw.line([(80, 270), (230, 270)], fill=\"black\", width=2)\n",
        "draw.line([(250, 270), (350, 270)], fill=\"black\", width=2)\n",
        "draw.line([(370, 270), (500, 200)], fill=\"black\", width=2)\n",
        "draw.line([(500, 300), (500, 400)], fill=\"black\", width=2)\n",
        "\n",
        "# Draw components as rectangles with labels\n",
        "for label, (x, y) in components.items():\n",
        "    draw.rectangle([x, y, x + 120, y + 60], outline=\"black\", width=2)\n",
        "    for i, line in enumerate(label.split(\"\\n\")):\n",
        "        draw.text((x + 10, y + 10 + i * 15), line, fill=\"black\")\n",
        "\n",
        "# Save image\n",
        "diagram_path = \"/tmp/aws_flask_architecture.png\"\n",
        "img.save(diagram_path)\n",
        "diagram_path"
      ]
    }
  ]
}